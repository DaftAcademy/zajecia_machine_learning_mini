{
 "cells": [
  {
   "cell_type": "markdown",
   "metadata": {},
   "source": [
    "# Wczytanie i przygotowanie danych\n",
    "\n",
    "Dane są obrabiane w identyczny sposób jak na poprzednich zajęciach."
   ]
  },
  {
   "cell_type": "code",
   "execution_count": 1,
   "metadata": {
    "collapsed": false
   },
   "outputs": [],
   "source": [
    "import numpy as np\n",
    "import pandas as pd\n",
    "import itertools as it\n",
    "import random\n",
    "from skopt import gp_minimize, forest_minimize, gbrt_minimize\n",
    "from skopt.space import Categorical\n",
    "\n",
    "x_and_y_train = pd.concat([pd.read_csv('/home/model/scripts/MachineLearningLevelUp/data/xtrain_1.csv', \n",
    "                                       low_memory=False),\n",
    "                           pd.read_csv('/home/model/scripts/MachineLearningLevelUp/data/xtrain_2.csv', \n",
    "                                       low_memory=False),\n",
    "                           pd.read_csv('/home/model/scripts/MachineLearningLevelUp/data/y_train.csv', \n",
    "                                       header=None, names=['y'])],\n",
    "                          axis=1)\n",
    "\n",
    "x_and_y_train['received_at'] = pd.to_datetime(x_and_y_train['received_at'])\n",
    "\n",
    "x_and_y_train = x_and_y_train.sort_values('received_at')\n",
    "\n",
    "ytrain = x_and_y_train.pop('y')\n",
    "xtrain = x_and_y_train\n",
    "\n",
    "low_card_cat_colnames = [\n",
    "                    'agent_type', 'bin_country', 'browser', 'browser_string_mismatch',\n",
    "                    'card_brand', 'card_level', 'card_type', 'cc_bin_number_brand', 'cc_bin_number_type',\n",
    "                    'cc_number_hash_assert_history', 'cc_number_hash_result', 'input_ip_assert_history',\n",
    "                    'input_ip_geo', 'input_ip_result', 'js_browser', 'js_fonts_number', 'js_os', 'navigatorplatform',\n",
    "                    'os', 'remote_desktop', 'request_result', 'review_status', 'x10047', 'x12050', 'x16453', \n",
    "                    'x21202', 'x21215', 'x21877', 'x26431', 'x32520', 'x39150', 'x41009', 'x5170', 'x5193',\n",
    "                    'x5290', 'x5342', 'x55586', 'x66439', 'x70617', 'x72496', 'x73629', 'x80025', 'x80385',\n",
    "                    'x80911', 'x83032', 'x83336', 'x91746', 'x92645', 'x96255', \n",
    "                   ]\n",
    "                    \n",
    "                    \n",
    "high_card_cat_colnames = [\n",
    "                    'bin', 'browser_string_hash', 'cc_bin_number', 'cc_bin_number_category', 'cc_bin_number_geo',\n",
    "                    'cc_bin_number_org', 'country_code', 'dns_ip_city', 'dns_ip_isp', 'dns_ip_organization',\n",
    "                    'dns_ip_region', 'input_ip_city', 'js_browser_string_hash', 'js_fonts_hash', 'language',\n",
    "                    'mime_type_hash', 'name', 'user_ip_country', 'x12964', 'x18591', 'x2801', 'x30901', 'x33709',\n",
    "                    'x46567', 'x46591', 'x52094', 'x55037', 'x61305', 'x63143', 'x66015', 'x76585', 'x82598',\n",
    "                    'x87611', 'x92166', 'x92221', 'x94347', \n",
    "                    ]\n",
    "                    \n",
    "parsable_cat_colnames = [\n",
    "                    'browser_string', 'headers_accept_encoding', 'headers_accept_language', 'headers_user_agent',\n",
    "                    'input_ip_attributes', 'js_browser_string', 'navigatorappversion', 'useragent', 'x31255',\n",
    "                    'x50315', \n",
    "                    ]\n",
    "                    \n",
    "degree_cat_colnames = ['risk_rating']\n",
    "                    \n",
    "castable_to_numeric_cat_colnames = [\n",
    "                    'x23739', 'x3314', 'x42317', 'x43300', 'x44170', 'x48420', 'x51274', 'x54084',\n",
    "                    'x5600', 'x59752', 'x60781', 'x87918', 'x9486', 'x97674', 'x98509',\n",
    "                    'application_id'\n",
    "                    ]\n"
   ]
  },
  {
   "cell_type": "code",
   "execution_count": 2,
   "metadata": {
    "collapsed": false
   },
   "outputs": [
    {
     "name": "stderr",
     "output_type": "stream",
     "text": [
      "/home/model/virtualenvs/diecard/lib/python2.7/site-packages/sklearn/cross_validation.py:44: DeprecationWarning: This module was deprecated in version 0.18 in favor of the model_selection module into which all the refactored classes and functions are moved. Also note that the interface of the new CV iterators are different from that of this module. This module will be removed in 0.20.\n",
      "  \"This module will be removed in 0.20.\", DeprecationWarning)\n"
     ]
    }
   ],
   "source": [
    "from sklearn.pipeline import Pipeline\n",
    "from sklearn.model_selection import cross_val_score\n",
    "from sklearn.model_selection import TimeSeriesSplit\n",
    "\n",
    "from xgboost import XGBClassifier\n",
    "\n",
    "import matplotlib.pyplot as plt\n",
    "%matplotlib inline\n",
    "\n",
    "import category_encoders as ce\n",
    "\n",
    "from hash_transformers import SimplisticHasher\n",
    "\n",
    "def undict_one_col(df, colname):\n",
    "    column = df.pop(colname)\n",
    "    values = [dict() if x is None else x for x in column]\n",
    "    unpacked_columns = pd.DataFrame.from_dict(values)\n",
    "    unpacked_columns = unpacked_columns.add_prefix(colname + '_')\n",
    "    return pd.concat([df, unpacked_columns], axis=1)\n",
    "\n",
    "def undict_cols(df, col_names):\n",
    "    for col_name in col_names:\n",
    "        df = undict_one_col(df, col_name)    \n",
    "    return df\n",
    "\n",
    "DF_cat = xtrain[low_card_cat_colnames+high_card_cat_colnames]\n",
    "cat_colnames = DF_cat.columns.tolist()\n",
    "\n",
    "dict_counts = xtrain.apply(lambda col: col.apply(lambda x: isinstance(x, dict))).sum()\n",
    "dict_colnames = dict_counts[dict_counts>0].index.tolist()\n",
    "\n",
    "xtrain_undicted = undict_cols(xtrain[dict_colnames], dict_colnames)\n",
    "xtrain_undicted_numeric = xtrain_undicted.select_dtypes(include=[np.number])\n",
    "\n",
    "DF_cat_and_undict = pd.concat([DF_cat, xtrain_undicted_numeric], axis=1)\n",
    "cat_colnames = DF_cat_and_undict.select_dtypes(exclude=[np.number]).columns.tolist()\n",
    "\n",
    "DF_cat_and_undict.fillna((-999), inplace=True)"
   ]
  },
  {
   "cell_type": "markdown",
   "metadata": {},
   "source": [
    "# XGBoost\n",
    "\n",
    "## Zasada działania\n",
    "\n",
    "XGBoost buduje w pierwszym kroku zwykłe drzewo klasyfikacyjne jak w algorytmie random forest. Następnie dodaje kolejne drzewa regresyjne tak, aby modyfikując wyniki dla poszczególnych obserwacji zmniejszać funkcję straty korzystając z algorytmu spadku po gradiencie (jak w przypadku sieci neuronowych i regresji logistycznej). Kolejne drzewa są uczone sekwencyjnie, więc możliwości zrównoleglenia algorytmu są ograniczone.\n",
    "\n",
    "\n",
    "<br>\n",
    "<br>\n",
    "<div style=\"text-align: center\"> **Pojedyncze drzewo** </div>\n",
    "<img src=\"https://raw.githubusercontent.com/dmlc/web-data/master/xgboost/model/cart.png\" width=\"600\" height=\"300\">\n",
    "<br>\n",
    "<br>\n",
    "<div style=\"text-align: center\"> **XGBoost** </div>\n",
    "<img src=\"https://raw.githubusercontent.com/dmlc/web-data/master/xgboost/model/twocart.png\" width=\"600\" height=\"300\">\n",
    "<br>\n",
    "<br>\n",
    "\n",
    "## Parametry:\n",
    "\n",
    "max_depth : int - \n",
    "Maksymalna głębokość pojedynczego drzewa.\n",
    "    \n",
    "learning_rate : float - \n",
    "learning rate (,,eta'')\n",
    "\n",
    "n_estimators : int - \n",
    "Liczba drzew.\n",
    "\n",
    "gamma : float - \n",
    "Minimalna redukcja funkcji straty wymagana do wykonania podziału węzła.\n",
    "\n",
    "subsample : float - \n",
    "Jaka część danych ma być samplowana do budowy pojedynczego drzewa.\n",
    "\n",
    "colsample_bytree : float - \n",
    "Jaki podzbiór kolumn ma być losowany podczas uczenia pojedynczego drzewa.\n",
    "\n",
    "colsample_bylevel : float - \n",
    "Jaki podzbiór kolumna ma być losowany podczas pojedynczego podziału w węźle.\n",
    "\n",
    "scale_pos_weight : float - \n",
    "Stosunek wag dla klas 1 i 0."
   ]
  },
  {
   "cell_type": "code",
   "execution_count": 3,
   "metadata": {
    "collapsed": false
   },
   "outputs": [
    {
     "name": "stderr",
     "output_type": "stream",
     "text": [
      "/home/model/virtualenvs/diecard/lib/python2.7/site-packages/pandas/core/frame.py:2440: SettingWithCopyWarning: \n",
      "A value is trying to be set on a copy of a slice from a DataFrame.\n",
      "Try using .loc[row_indexer,col_indexer] = value instead\n",
      "\n",
      "See the caveats in the documentation: http://pandas.pydata.org/pandas-docs/stable/indexing.html#indexing-view-versus-copy\n",
      "  self[k1] = value[k2]\n"
     ]
    },
    {
     "data": {
      "text/plain": [
       "[<matplotlib.lines.Line2D at 0x7135535033d0>]"
      ]
     },
     "execution_count": 3,
     "metadata": {},
     "output_type": "execute_result"
    },
    {
     "data": {
      "image/png": "[encoded data removed]",
      "text/plain": [
       "<matplotlib.figure.Figure at 0x7135b1c1c350>"
      ]
     },
     "metadata": {},
     "output_type": "display_data"
    }
   ],
   "source": [
    "pipe = Pipeline([\n",
    "    ('simplistic_hash', SimplisticHasher(cols=cat_colnames)),\n",
    "    ('xgb', XGBClassifier(\n",
    "                max_depth=3, \n",
    "                learning_rate=0.1, \n",
    "                n_estimators=100, \n",
    "                gamma=0, \n",
    "                subsample=1, \n",
    "                colsample_bytree=1, \n",
    "                colsample_bylevel=1, \n",
    "                scale_pos_weight=1, \n",
    "            )\n",
    "    ),\n",
    "])\n",
    "\n",
    "scores = cross_val_score(pipe,\n",
    "                         DF_cat_and_undict,\n",
    "                         ytrain,\n",
    "                         scoring='roc_auc',\n",
    "                         cv=TimeSeriesSplit(2))\n",
    "\n",
    "plt.plot(scores)"
   ]
  },
  {
   "cell_type": "markdown",
   "metadata": {},
   "source": [
    "# Optymalizacja Hiperparametrów\n",
    "\n",
    "**Grid Search** - Przeszukiwanie całej przestrzeni parametrów po równomiernie rozłożonej siatce.\n",
    "\n",
    "**Random Search** - Przeszukiwanie całej przestrzeni parametrów w sposób losowy.\n",
    "<br>\n",
    "<img src=\"http://5047-presscdn.pagely.netdna-cdn.com/wp-content/uploads/2015/07/scikitlearn8.jpeg\" height=\"400\" width=\"800\">\n",
    "\n",
    "\n",
    "**Optymalizacja Bayesowska** - Przeszukiwanie przestrzeni parametrów oparte funkcję oczekiwanego zysku estymowaną przy pomocy procesów gaussowskich.\n",
    "<img src=\"https://advancedoptimizationatharvard.files.wordpress.com/2014/04/capture.png\" height=\"2000\" width=\"700\">\n",
    "<br>\n",
    "<img src=\"https://thuijskens.github.io/images/2016_12_29/real_loss_contour.png\" height=\"400\" width=\"500\">\n",
    "<br>\n",
    "<img src=\"https://thuijskens.github.io/images/2016_12_29/bo_2d_new_data.gif\" height=\"2000\" width=\"500\">"
   ]
  },
  {
   "cell_type": "markdown",
   "metadata": {},
   "source": [
    "## Definicje funkcji\n",
    "\n",
    "Kod funkcji pochodzi z bardzo ciekawego artykułu porównującego różne metody i silniki do optymalizacji hiperparametrów: \n",
    "[Optimizing the hyperparameter of...](https://roamanalytics.com/2016/09/15/optimizing-the-hyperparameter-of-which-hyperparameter-optimizer-to-use/)"
   ]
  },
  {
   "cell_type": "code",
   "execution_count": 4,
   "metadata": {
    "collapsed": false
   },
   "outputs": [],
   "source": [
    "def random_search(\n",
    "        X_train, y_train, model_class, param_grid, loss, sampsize=None):\n",
    "    \"\"\"\n",
    "    Random search over the grid defined by `param_grid`.\n",
    "    Parameters\n",
    "    ----------\n",
    "    X_train : np.array\n",
    "        The design matrix, dimension `(n_samples, n_features)`.\n",
    "    y_train : list or np.array\n",
    "        The target, of dimension `n_samples`.\n",
    "    model_class : classifier\n",
    "        A classifier model in the mode of `sklearn`, with at least\n",
    "        `fit` and `predict` methods operating on things like\n",
    "        `X` and `y`.\n",
    "    param_grid : dict\n",
    "        Map from parameter names to lists of appropriate values\n",
    "        for that parameter. This is not the expanded grid, but\n",
    "        rather the simple map that can be expanded by `expand_grid`\n",
    "        below. This method performs the expansion.\n",
    "    loss : function or string\n",
    "        An appropriate loss function or string recognizable by\n",
    "        sklearn.cross_validation.cross_val_score. In sklearn, scores\n",
    "        are positive and losses are negative because they maximize,\n",
    "        but here we are minimizing so we always want smaller to mean\n",
    "        better.\n",
    "    sampsize : int or None\n",
    "        Number of samples to take from the grid. If `None`, then\n",
    "        `sampsize` is half the size of the full grid.\n",
    "    Returns\n",
    "    -------\n",
    "    list of dict\n",
    "        Each has keys 'loss' and 'params', where 'params' stores the\n",
    "        values from `param_grid` for that run. The primary organizing\n",
    "        value is 'loss'.\n",
    "    Example\n",
    "    -------\n",
    "    >>> param_grid = {\n",
    "            'max_depth' : [4, 8],\n",
    "            'learning_rate' : [0.01, 0.3],\n",
    "            'n_estimators' : [20, 50],\n",
    "            'objective' : ['multi:softprob'],\n",
    "            'gamma' : [0, 0.25],\n",
    "            'min_child_weight' : [1],\n",
    "            'subsample' : [1],\n",
    "            'colsample_bytree' : [1]}\n",
    "    >>> res = random_search(X, y, XGBClassifier, param_grid, LOG_LOSS)\n",
    "    To be followed by (see below):\n",
    "    >>> best_params, best_loss = best_results(res)\n",
    "    \"\"\"\n",
    "    exapnded_param_grid = expand_grid(param_grid)\n",
    "    if sampsize == None:\n",
    "        sampsize = int(len(exapnded_param_grid) / 2.0)\n",
    "    samp = random.sample(exapnded_param_grid, sampsize)\n",
    "    results = []\n",
    "    for params in samp:\n",
    "        err = cross_validated_scorer(\n",
    "            X_train, y_train, model_class, params, loss)\n",
    "        results.append({'loss': err, 'params': params})\n",
    "    return results\n",
    "\n",
    "\n",
    "def grid_search(X_train, y_train, model_class, param_grid, loss, sampsize=1000000):\n",
    "    \"\"\"\n",
    "    Full grid search over the grid defined by `param_grid`.\n",
    "    Parameters\n",
    "    ----------\n",
    "    X_train : np.array\n",
    "        The design matrix, dimension `(n_samples, n_features)`.\n",
    "    y_train : list or np.array\n",
    "        The target, of dimension `n_samples`.\n",
    "    model_class : classifier\n",
    "        A classifier model in the mode of `sklearn`, with at least\n",
    "        `fit` and `predict` methods operating on things like\n",
    "        `X` and `y`.\n",
    "    param_grid : dict\n",
    "        Map from parameter names to lists of appropriate values\n",
    "        for that parameter. This is not the expanded grid, but\n",
    "        rather the simple map that can be expanded by `expand_grid`\n",
    "        below. This method performs the expansion.\n",
    "    loss : function or string\n",
    "        An appropriate loss function or string recognizable by\n",
    "        sklearn.cross_validation.cross_val_score. In sklearn, scores\n",
    "        are positive and losses are negative because they maximize,\n",
    "        but here we are minimizing so we always want smaller to mean\n",
    "        better.\n",
    "    Returns\n",
    "    -------\n",
    "    list of dict\n",
    "        Each has keys 'loss' and 'params', where 'params' stores the\n",
    "        values from `param_grid` for that run. The primary organizing\n",
    "        value is 'loss'.\n",
    "    Example\n",
    "    -------\n",
    "    >>> param_grid = {\n",
    "            'max_depth' : [4, 8],\n",
    "            'learning_rate' : [0.01, 0.3],\n",
    "            'n_estimators' : [20, 50],\n",
    "            'objective' : ['multi:softprob'],\n",
    "            'gamma' : [0, 0.25],\n",
    "            'min_child_weight' : [1],\n",
    "            'subsample' : [1],\n",
    "            'colsample_bytree' : [1]}\n",
    "    >>> res = grid_search(X, y, XGBClassifier, param_grid, LOG_LOSS)\n",
    "    To be followed by (see below):\n",
    "    >>> best_params, best_loss = best_results(res)\n",
    "    \"\"\"\n",
    "    results = []\n",
    "    expanded_param_grid = expand_grid(param_grid)\n",
    "    print \"Number of iterations: \", len(expanded_param_grid)\n",
    "    counter = 0\n",
    "    for params in expanded_param_grid:\n",
    "        err = cross_validated_scorer(\n",
    "            X_train, y_train, model_class, params, loss)\n",
    "        results.append({'loss': err, 'params': params})\n",
    "        counter += 1\n",
    "        if counter > sampsize:\n",
    "            break\n",
    "    return results\n",
    "\n",
    "\n",
    "def expand_grid(param_grid):\n",
    "    \"\"\"\n",
    "    Expand `param_grid` to the full grid, as a list of dicts.\n",
    "    Parameters\n",
    "    ----------\n",
    "    param_grid : dict\n",
    "        Map from parameter names to lists of appropriate values\n",
    "        for that parameter. This is not the expanded grid, but\n",
    "        rather the simple map that can be expanded by `expand_grid`\n",
    "        below. This method performs the expansion.\n",
    "    Returns\n",
    "    -------\n",
    "    list of dict\n",
    "        If `param_grid` was\n",
    "        {'foo': [1,2], 'bar': [3,4]}\n",
    "        Then the return value would be\n",
    "        [{'foo': 1, 'bar': 3},  {'foo': 1, 'bar': 4},\n",
    "         {'foo': 2, 'bar': 3},  {'foo': 2, 'bar': 4}]\n",
    "    \"\"\"        \n",
    "    varNames = sorted(param_grid)\n",
    "    return [dict(zip(varNames, prod))\n",
    "            for prod in it.product(*(param_grid[varName]\n",
    "                                     for varName in varNames))]\n",
    "\n",
    "\n",
    "def cross_validated_scorer(\n",
    "        X_train, y_train, model_class, params, loss, kfolds=5):\n",
    "    \"\"\"\n",
    "    The scoring function used through this module, by all search\n",
    "    functions.\n",
    "    Parameters\n",
    "    ----------\n",
    "    X_train : np.array\n",
    "        The design matrix, dimension `(n_samples, n_features)`.\n",
    "    y_train : list or np.array\n",
    "        The target, of dimension `n_samples`.\n",
    "    model_class : classifier\n",
    "        A classifier model in the mode of `sklearn`, with at least\n",
    "        `fit` and `predict` methods operating on things like\n",
    "        `X` and `y`.\n",
    "    params : dict\n",
    "        Map from parameter names to single appropriate values\n",
    "        for that parameter. This will be used to build a model\n",
    "        from `model_class`.\n",
    "    loss : function or string\n",
    "        An appropriate loss function or string recognizable by\n",
    "        sklearn.cross_validation.cross_val_score. In sklearn, scores\n",
    "        are positive and losses are negative because they maximize,\n",
    "        but here we are minimizing so we always want smaller to mean\n",
    "        better.\n",
    "    kfolds : int\n",
    "        Number of cross-validation runs to do.\n",
    "    Returns\n",
    "    -------\n",
    "    float\n",
    "       Average loss over the `kfolds` runs.\n",
    "    \"\"\"\n",
    "    print \"*\",\n",
    "    mod = model_class(**params)\n",
    "    cv_score = -1 * cross_val_score(\n",
    "        mod,\n",
    "        X_train,\n",
    "\n",
    "        y=y_train,\n",
    "        scoring=loss,\n",
    "        cv=kfolds,\n",
    "        n_jobs=1).mean()\n",
    "    return cv_score\n",
    "\n",
    "\n",
    "def skopt_search(\n",
    "        X_train, y_train, model_class, param_grid, loss, skopt_method, n_calls=100):\n",
    "    \"\"\"\n",
    "    General method for applying `skopt_method` to the data.\n",
    "    Parameters\n",
    "    ----------\n",
    "    X_train : np.array\n",
    "        The design matrix, dimension `(n_samples, n_features)`.\n",
    "    y_train : list or np.array\n",
    "        The target, of dimension `n_samples`.\n",
    "    model_class : classifier\n",
    "        A classifier model in the mode of `sklearn`, with at least\n",
    "        `fit` and `predict` methods operating on things like\n",
    "        `X` and `y`.\n",
    "    param_grid : dict\n",
    "        Map from parameter names to pairs of values specifying the\n",
    "        upper and lower ends of the space from which to sample.\n",
    "        The values can also be directly specified as `skopt`\n",
    "        objects like `Categorical`.\n",
    "    loss : function or string\n",
    "        An appropriate loss function or string recognizable by\n",
    "        sklearn.cross_validation.cross_val_score. In sklearn, scores\n",
    "        are positive and losses are negative because they maximize,\n",
    "        but here we are minimizing so we always want smaller to mean\n",
    "        better.\n",
    "    skopt_method : skopt function\n",
    "        Can be `gp_minimize`, `forest_minimize`, or `gbrt_minimize`.\n",
    "    n_calls : int\n",
    "        Number of evaluations to do.\n",
    "    Returns\n",
    "    -------\n",
    "    list of dict\n",
    "        Each has keys 'loss' and 'params', where 'params' stores the\n",
    "        values from `param_grid` for that run. The primary organizing\n",
    "        value is 'loss'.\n",
    "    \"\"\"\n",
    "    param_keys, param_vecs = zip(*param_grid.items())\n",
    "    param_keys = list(param_keys)\n",
    "    param_vecs = list(param_vecs)\n",
    "\n",
    "    def skopt_scorer(param_vec):\n",
    "        params = dict(zip(param_keys, param_vec))\n",
    "        err = cross_validated_scorer(\n",
    "            X_train, y_train, model_class, params, loss)\n",
    "        return err\n",
    "    outcome = skopt_method(skopt_scorer, list(param_vecs), n_calls=n_calls)\n",
    "    results = []\n",
    "    for err, param_vec in zip(outcome.func_vals, outcome.x_iters):\n",
    "        params = dict(zip(param_keys, param_vec))\n",
    "        results.append({'loss': err, 'params': params})\n",
    "    return results"
   ]
  },
  {
   "cell_type": "markdown",
   "metadata": {},
   "source": [
    "## Porównanie metod optymalizacji hiperparametrów"
   ]
  },
  {
   "cell_type": "code",
   "execution_count": 15,
   "metadata": {
    "collapsed": false,
    "scrolled": true
   },
   "outputs": [],
   "source": [
    "def plot_opt(res):\n",
    "    losses = [x['loss'] for x in res]\n",
    "    plt.plot([min(losses[:i]) for i in range(1,len(losses) + 1)])\n",
    "\n",
    "pipe = Pipeline([\n",
    "    ('simplistic_hash', SimplisticHasher(cols=cat_colnames)),\n",
    "])\n",
    "\n",
    "x_train = pipe.fit_transform(DF_cat_and_undict)\n",
    "\n",
    "max_iter = 50"
   ]
  },
  {
   "cell_type": "markdown",
   "metadata": {},
   "source": [
    "### Grid Search"
   ]
  },
  {
   "cell_type": "code",
   "execution_count": 16,
   "metadata": {
    "collapsed": false,
    "scrolled": true
   },
   "outputs": [
    {
     "name": "stdout",
     "output_type": "stream",
     "text": [
      "Number of iterations:  192375\n",
      "* * * * * * * * * * * * * * * * * * * * * * * * * * * * * * * * * * * * * * * * * * * * * * * * * * *\n"
     ]
    }
   ],
   "source": [
    "param_grid = {\n",
    "            'max_depth' : range(1, 20),\n",
    "            'learning_rate' : np.arange(0.01, 0.1, 0.01),\n",
    "            'n_estimators' : range(1, 10),\n",
    "            'min_child_weight' : np.arange(0.5, 1., 0.1),\n",
    "            'subsample' : np.arange(0.5, 1., 0.1),\n",
    "            'colsample_bytree' : np.arange(0.5, 1., 0.1)}\n",
    "\n",
    "res_grid = grid_search(x_train,\n",
    "                      ytrain,\n",
    "                      XGBClassifier,\n",
    "                      param_grid,\n",
    "                      'neg_log_loss',\n",
    "                      sampsize=max_iter)\n"
   ]
  },
  {
   "cell_type": "code",
   "execution_count": 17,
   "metadata": {
    "collapsed": false
   },
   "outputs": [
    {
     "data": {
      "image/png": "[encoded data removed]",
      "text/plain": [
       "<matplotlib.figure.Figure at 0x71353e5a9150>"
      ]
     },
     "metadata": {},
     "output_type": "display_data"
    }
   ],
   "source": [
    "plot_opt(res_grid)"
   ]
  },
  {
   "cell_type": "markdown",
   "metadata": {},
   "source": [
    "### Random Search"
   ]
  },
  {
   "cell_type": "code",
   "execution_count": 18,
   "metadata": {
    "collapsed": false,
    "scrolled": true
   },
   "outputs": [
    {
     "name": "stdout",
     "output_type": "stream",
     "text": [
      "* * * * * * * * * * * * * * * * * * * * * * * * * * * * * * * * * * * * * * * * * * * * * * * * * *\n"
     ]
    }
   ],
   "source": [
    "param_grid = {\n",
    "            'max_depth' : range(1, 20),\n",
    "            'learning_rate' : np.arange(0.01, 0.1, 0.01),\n",
    "            'n_estimators' : range(1, 10),\n",
    "            'min_child_weight' : np.arange(0.5, 1., 0.1),\n",
    "            'subsample' : np.arange(0.5, 1., 0.1),\n",
    "            'colsample_bytree' : np.arange(0.5, 1., 0.1)}\n",
    "res_random = random_search(x_train,\n",
    "                      ytrain, \n",
    "                      XGBClassifier, \n",
    "                      param_grid, \n",
    "                      'neg_log_loss',\n",
    "                      sampsize=max_iter)"
   ]
  },
  {
   "cell_type": "code",
   "execution_count": 19,
   "metadata": {
    "collapsed": false
   },
   "outputs": [
    {
     "data": {
      "image/png": "[encoded data removed]",
      "text/plain": [
       "<matplotlib.figure.Figure at 0x71353e351210>"
      ]
     },
     "metadata": {},
     "output_type": "display_data"
    }
   ],
   "source": [
    "plot_opt(res_random)"
   ]
  },
  {
   "cell_type": "markdown",
   "metadata": {},
   "source": [
    "### Optymalizacja Bayesowska"
   ]
  },
  {
   "cell_type": "code",
   "execution_count": 20,
   "metadata": {
    "collapsed": false
   },
   "outputs": [
    {
     "name": "stdout",
     "output_type": "stream",
     "text": [
      "* * * * * * * * * * * * * * * * * * * * * * * * * * * * * * * * * * * * * * * * * * * * * * * * * *\n"
     ]
    }
   ],
   "source": [
    "# skopt_grid = {\n",
    "#             'max_depth': (1, 30),\n",
    "#             'learning_rate': (0.01, 1.),\n",
    "#             'n_estimators': (1, 200),\n",
    "#             'gamma': (0., 5.),\n",
    "#             'min_child_weight': (0, 10.),\n",
    "#             'subsample': (0.1, 1),\n",
    "#             'colsample_bytree': (0.1, 1)}\n",
    "\n",
    "skopt_grid = {\n",
    "            'max_depth': (1, 20),\n",
    "            'learning_rate': (0.01, 0.1),\n",
    "            'n_estimators': (1, 10),\n",
    "#            'objective' : Categorical(('binary:logistic',)),\n",
    "            'min_child_weight': (0.5, 1.),\n",
    "            'subsample': (0.5, 1.),\n",
    "            'colsample_bytree': (0.5, 1.)}\n",
    "\n",
    "\n",
    "\n",
    "res_skopt = skopt_search(x_train,\n",
    "                      ytrain, \n",
    "                      XGBClassifier, \n",
    "                      skopt_grid, \n",
    "                      'neg_log_loss',\n",
    "                      gp_minimize, \n",
    "                      n_calls=max_iter)"
   ]
  },
  {
   "cell_type": "code",
   "execution_count": 21,
   "metadata": {
    "collapsed": false
   },
   "outputs": [
    {
     "data": {
      "image/png": "[encoded data removed]",
      "text/plain": [
       "<matplotlib.figure.Figure at 0x71353e2d6c90>"
      ]
     },
     "metadata": {},
     "output_type": "display_data"
    }
   ],
   "source": [
    "plot_opt(res_skopt)"
   ]
  },
  {
   "cell_type": "code",
   "execution_count": 22,
   "metadata": {
    "collapsed": false
   },
   "outputs": [
    {
     "data": {
      "image/png": "[encoded data removed]",
      "text/plain": [
       "<matplotlib.figure.Figure at 0x71353e2b2ad0>"
      ]
     },
     "metadata": {},
     "output_type": "display_data"
    }
   ],
   "source": [
    "plot_opt(res_grid)\n",
    "plot_opt(res_random)\n",
    "plot_opt(res_skopt)"
   ]
  },
  {
   "cell_type": "markdown",
   "metadata": {},
   "source": [
    "# Odnośniki"
   ]
  },
  {
   "cell_type": "markdown",
   "metadata": {},
   "source": [
    "#### XGBoost\n",
    "http://xgboost.readthedocs.io/en/latest/model.html - dokumentacja XGBoost\n",
    "\n",
    "https://arxiv.org/abs/1603.02754 - artykuł o XGBoost\n",
    "\n",
    "#### Skopt\n",
    "https://scikit-optimize.github.io/ - reopzytorium projektu\n",
    "\n",
    "#### Optymalizacja Bayesowska\n",
    "https://roamanalytics.com/2016/09/15/optimizing-the-hyperparameter-of-which-hyperparameter-optimizer-to-use/ - optymalizacja hiperparametrów - post\n",
    "\n",
    "https://www.youtube.com/watch?v=YB64VoGQsK8 - wykład o optymalizacji bayesowskiej"
   ]
  }
 ],
 "metadata": {
  "anaconda-cloud": {},
  "kernelspec": {
   "display_name": "Python [Root]",
   "language": "python",
   "name": "Python [Root]"
  },
  "language_info": {
   "codemirror_mode": {
    "name": "ipython",
    "version": 2
   },
   "file_extension": ".py",
   "mimetype": "text/x-python",
   "name": "python",
   "nbconvert_exporter": "python",
   "pygments_lexer": "ipython2",
   "version": "2.7.12"
  }
 },
 "nbformat": 4,
 "nbformat_minor": 2
}
