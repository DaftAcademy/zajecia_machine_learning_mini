{
 "cells": [
  {
   "cell_type": "markdown",
   "metadata": {},
   "source": [
    "![logo](logo/DaftCode_logo_854x210.jpg)"
   ]
  },
  {
   "cell_type": "markdown",
   "metadata": {},
   "source": [
    "# Machine Learning Level Up\n",
    "\n",
    "Wstęp do Python. Python jest bardzo podobny do R: jest dynamicznie typowany i skryptowy. Jest bogatrzy o programowanie obiektowe i lambda-abstrakcje, ale za to niektóre rzeczy wymagają więcej pracy.\n",
    "\n",
    "Podstawowe typy:\n",
    "\n",
    "### Listy"
   ]
  },
  {
   "cell_type": "code",
   "execution_count": 3,
   "metadata": {
    "collapsed": false
   },
   "outputs": [
    {
     "data": {
      "text/plain": [
       "[0, 1, 2, 3, 4, 5]"
      ]
     },
     "execution_count": 3,
     "metadata": {},
     "output_type": "execute_result"
    }
   ],
   "source": [
    "[0, 1, 2, 3, 4, 5]"
   ]
  },
  {
   "cell_type": "code",
   "execution_count": 4,
   "metadata": {
    "collapsed": false
   },
   "outputs": [
    {
     "data": {
      "text/plain": [
       "[0, 1, 2, 3, 4, 5]"
      ]
     },
     "execution_count": 4,
     "metadata": {},
     "output_type": "execute_result"
    }
   ],
   "source": [
    "range(6)"
   ]
  },
  {
   "cell_type": "code",
   "execution_count": 5,
   "metadata": {
    "collapsed": false
   },
   "outputs": [
    {
     "data": {
      "text/plain": [
       "[0, 1, 2, 3, 4, 5]"
      ]
     },
     "execution_count": 5,
     "metadata": {},
     "output_type": "execute_result"
    }
   ],
   "source": [
    "range(0, 6)"
   ]
  },
  {
   "cell_type": "code",
   "execution_count": 41,
   "metadata": {
    "collapsed": false
   },
   "outputs": [
    {
     "data": {
      "text/plain": [
       "[-1, 1, 2, 3]"
      ]
     },
     "execution_count": 41,
     "metadata": {},
     "output_type": "execute_result"
    }
   ],
   "source": [
    "A = range(4)\n",
    "A[0] = -1\n",
    "A"
   ]
  },
  {
   "cell_type": "code",
   "execution_count": 12,
   "metadata": {
    "collapsed": false
   },
   "outputs": [
    {
     "data": {
      "text/plain": [
       "[-1, 1]"
      ]
     },
     "execution_count": 12,
     "metadata": {},
     "output_type": "execute_result"
    }
   ],
   "source": [
    "A[0:2]"
   ]
  },
  {
   "cell_type": "code",
   "execution_count": 13,
   "metadata": {
    "collapsed": false
   },
   "outputs": [
    {
     "data": {
      "text/plain": [
       "[-1, 1]"
      ]
     },
     "execution_count": 13,
     "metadata": {},
     "output_type": "execute_result"
    }
   ],
   "source": [
    "A[:2]"
   ]
  },
  {
   "cell_type": "code",
   "execution_count": 14,
   "metadata": {
    "collapsed": false
   },
   "outputs": [
    {
     "data": {
      "text/plain": [
       "3"
      ]
     },
     "execution_count": 14,
     "metadata": {},
     "output_type": "execute_result"
    }
   ],
   "source": [
    "A[-1]"
   ]
  },
  {
   "cell_type": "code",
   "execution_count": 15,
   "metadata": {
    "collapsed": false
   },
   "outputs": [
    {
     "data": {
      "text/plain": [
       "[-1, 1]"
      ]
     },
     "execution_count": 15,
     "metadata": {},
     "output_type": "execute_result"
    }
   ],
   "source": [
    "A[:-2]"
   ]
  },
  {
   "cell_type": "code",
   "execution_count": 42,
   "metadata": {
    "collapsed": false
   },
   "outputs": [
    {
     "name": "stdout",
     "output_type": "stream",
     "text": [
      "[-1, 1, 2, 3]\n",
      "[-1, 1, 2, 3, 10]\n",
      "[1, 2, 3, 10]\n",
      "[1, 2, 10]\n"
     ]
    }
   ],
   "source": [
    "print A\n",
    "A.append(10)\n",
    "print A\n",
    "A.pop(0) # Pop element at index 0\n",
    "print A\n",
    "A.pop(2) # Pop element at index 2\n",
    "print A"
   ]
  },
  {
   "cell_type": "code",
   "execution_count": 43,
   "metadata": {
    "collapsed": false
   },
   "outputs": [
    {
     "name": "stdout",
     "output_type": "stream",
     "text": [
      "[0, 1, 2, 3, 4]\n",
      "[2, 3, 4]\n"
     ]
    }
   ],
   "source": [
    "B = range(5)\n",
    "print B\n",
    "del B[:2] # Remove two first elements\n",
    "print B"
   ]
  },
  {
   "cell_type": "code",
   "execution_count": 48,
   "metadata": {
    "collapsed": false
   },
   "outputs": [
    {
     "ename": "IndexError",
     "evalue": "list index out of range",
     "output_type": "error",
     "traceback": [
      "\u001b[0;31m---------------------------------------------------------------------------\u001b[0m",
      "\u001b[0;31mIndexError\u001b[0m                                Traceback (most recent call last)",
      "\u001b[0;32m<ipython-input-48-e4caf6231180>\u001b[0m in \u001b[0;36m<module>\u001b[0;34m()\u001b[0m\n\u001b[0;32m----> 1\u001b[0;31m \u001b[0mB\u001b[0m\u001b[0;34m[\u001b[0m\u001b[0;36m5\u001b[0m\u001b[0;34m]\u001b[0m\u001b[0;34m\u001b[0m\u001b[0m\n\u001b[0m",
      "\u001b[0;31mIndexError\u001b[0m: list index out of range"
     ]
    }
   ],
   "source": [
    "B[5]"
   ]
  },
  {
   "cell_type": "markdown",
   "metadata": {},
   "source": [
    "### Tuple"
   ]
  },
  {
   "cell_type": "code",
   "execution_count": 16,
   "metadata": {
    "collapsed": false
   },
   "outputs": [
    {
     "data": {
      "text/plain": [
       "(1, 2, 3, 4, 5, 6)"
      ]
     },
     "execution_count": 16,
     "metadata": {},
     "output_type": "execute_result"
    }
   ],
   "source": [
    "(1, 2, 3, 4, 5, 6)"
   ]
  },
  {
   "cell_type": "markdown",
   "metadata": {},
   "source": [
    "### Słowniki (dictionaries)"
   ]
  },
  {
   "cell_type": "code",
   "execution_count": 50,
   "metadata": {
    "collapsed": false
   },
   "outputs": [
    {
     "data": {
      "text/plain": [
       "{'a': 0, 'b': 1, 'c': 2}"
      ]
     },
     "execution_count": 50,
     "metadata": {},
     "output_type": "execute_result"
    }
   ],
   "source": [
    "D = {\n",
    "    \"a\": 0,\n",
    "    \"b\": 1,\n",
    "    \"c\": 2\n",
    "}\n",
    "D"
   ]
  },
  {
   "cell_type": "code",
   "execution_count": 17,
   "metadata": {
    "collapsed": false
   },
   "outputs": [
    {
     "data": {
      "text/plain": [
       "{'a': 0, 'b': 1, 'c': 2}"
      ]
     },
     "execution_count": 17,
     "metadata": {},
     "output_type": "execute_result"
    }
   ],
   "source": [
    "dict([('a', 0), ('b', 1), ('c', 2)])"
   ]
  },
  {
   "cell_type": "code",
   "execution_count": 51,
   "metadata": {
    "collapsed": false
   },
   "outputs": [
    {
     "data": {
      "text/plain": [
       "0"
      ]
     },
     "execution_count": 51,
     "metadata": {},
     "output_type": "execute_result"
    }
   ],
   "source": [
    "D['a']"
   ]
  },
  {
   "cell_type": "code",
   "execution_count": 52,
   "metadata": {
    "collapsed": false
   },
   "outputs": [
    {
     "data": {
      "text/plain": [
       "{'a': 0, 'b': 'slowo', 'c': 2}"
      ]
     },
     "execution_count": 52,
     "metadata": {},
     "output_type": "execute_result"
    }
   ],
   "source": [
    "D['b'] = \"slowo\"\n",
    "D"
   ]
  },
  {
   "cell_type": "code",
   "execution_count": 53,
   "metadata": {
    "collapsed": false
   },
   "outputs": [
    {
     "ename": "KeyError",
     "evalue": "'d'",
     "output_type": "error",
     "traceback": [
      "\u001b[0;31m---------------------------------------------------------------------------\u001b[0m",
      "\u001b[0;31mKeyError\u001b[0m                                  Traceback (most recent call last)",
      "\u001b[0;32m<ipython-input-53-423cd14d07cd>\u001b[0m in \u001b[0;36m<module>\u001b[0;34m()\u001b[0m\n\u001b[0;32m----> 1\u001b[0;31m \u001b[0mD\u001b[0m\u001b[0;34m[\u001b[0m\u001b[0;34m'd'\u001b[0m\u001b[0;34m]\u001b[0m\u001b[0;34m\u001b[0m\u001b[0m\n\u001b[0m",
      "\u001b[0;31mKeyError\u001b[0m: 'd'"
     ]
    }
   ],
   "source": [
    "D['d']"
   ]
  },
  {
   "cell_type": "markdown",
   "metadata": {},
   "source": [
    "### Stringi\n",
    "\n",
    "W stringach interesuje nas jak je concatenować, splitować, wyszukiwać regexy etc."
   ]
  },
  {
   "cell_type": "code",
   "execution_count": 75,
   "metadata": {
    "collapsed": false
   },
   "outputs": [
    {
     "name": "stdout",
     "output_type": "stream",
     "text": [
      "mickey.mouse@daftcode.pl\n",
      "['mickey', 'mouse@daftcode', 'pl']\n",
      "mickey@mouse@daftcode@pl\n"
     ]
    }
   ],
   "source": [
    "name = \"mickey.mouse\"\n",
    "domain = \"daftcode.pl\"\n",
    "# Concatenacja\n",
    "mail = name + \"@\" + domain\n",
    "print mail\n",
    "# Split\n",
    "s = mail.split('.')\n",
    "print s\n",
    "# Join\n",
    "print '@'.join(s)"
   ]
  },
  {
   "cell_type": "markdown",
   "metadata": {},
   "source": [
    "### Instrukcje sterujące\n",
    "\n",
    "Czyli for, while, if, def.\n",
    "\n",
    "Bloki kodu oznaczane są przez wcięcie (eng. indent). Każda instrukcja sterująca kończy sie dwukropkiem."
   ]
  },
  {
   "cell_type": "code",
   "execution_count": 23,
   "metadata": {
    "collapsed": false
   },
   "outputs": [
    {
     "data": {
      "text/plain": [
       "362880"
      ]
     },
     "execution_count": 23,
     "metadata": {},
     "output_type": "execute_result"
    }
   ],
   "source": [
    "mul = 1\n",
    "for i in range(1, 10):\n",
    "    mul = mul * i\n",
    "    \n",
    "mul"
   ]
  },
  {
   "cell_type": "code",
   "execution_count": 54,
   "metadata": {
    "collapsed": false
   },
   "outputs": [
    {
     "ename": "IndentationError",
     "evalue": "expected an indented block (<ipython-input-54-15c0cd8540dd>, line 3)",
     "output_type": "error",
     "traceback": [
      "\u001b[0;36m  File \u001b[0;32m\"<ipython-input-54-15c0cd8540dd>\"\u001b[0;36m, line \u001b[0;32m3\u001b[0m\n\u001b[0;31m    mul = mul * i\u001b[0m\n\u001b[0m      ^\u001b[0m\n\u001b[0;31mIndentationError\u001b[0m\u001b[0;31m:\u001b[0m expected an indented block\n"
     ]
    }
   ],
   "source": [
    "mul = 1\n",
    "for i in range(1, 10):\n",
    "mul = mul * i\n",
    "mul"
   ]
  },
  {
   "cell_type": "code",
   "execution_count": 55,
   "metadata": {
    "collapsed": false
   },
   "outputs": [
    {
     "ename": "IndentationError",
     "evalue": "unexpected indent (<ipython-input-55-e9a24bd69317>, line 2)",
     "output_type": "error",
     "traceback": [
      "\u001b[0;36m  File \u001b[0;32m\"<ipython-input-55-e9a24bd69317>\"\u001b[0;36m, line \u001b[0;32m2\u001b[0m\n\u001b[0;31m    mul = 3264\u001b[0m\n\u001b[0m    ^\u001b[0m\n\u001b[0;31mIndentationError\u001b[0m\u001b[0;31m:\u001b[0m unexpected indent\n"
     ]
    }
   ],
   "source": [
    "mul = 1\n",
    "    mul = 3264"
   ]
  },
  {
   "cell_type": "code",
   "execution_count": 28,
   "metadata": {
    "collapsed": false
   },
   "outputs": [
    {
     "name": "stdout",
     "output_type": "stream",
     "text": [
      "0\n",
      "1\n",
      "2\n",
      "3\n",
      "4\n"
     ]
    }
   ],
   "source": [
    "A = range(5)\n",
    "while len(A) > 0:\n",
    "    print A.pop(0)"
   ]
  },
  {
   "cell_type": "code",
   "execution_count": 27,
   "metadata": {
    "collapsed": false
   },
   "outputs": [
    {
     "name": "stdout",
     "output_type": "stream",
     "text": [
      "Wieksze\n"
     ]
    }
   ],
   "source": [
    "def cmp(a, b):\n",
    "    if a < b:\n",
    "        print \"Mniejsze\"\n",
    "    elif a == b:\n",
    "        print \"Równe\"\n",
    "    else:\n",
    "        print \"Wieksze\"\n",
    "        \n",
    "cmp(7, 6)"
   ]
  },
  {
   "cell_type": "code",
   "execution_count": 57,
   "metadata": {
    "collapsed": false
   },
   "outputs": [
    {
     "data": {
      "text/plain": [
       "([0, 9, 36, 81], [0, 9, 36, 81], [0, 9, 36, 81])"
      ]
     },
     "execution_count": 57,
     "metadata": {},
     "output_type": "execute_result"
    }
   ],
   "source": [
    "A = []\n",
    "for i in range(10):\n",
    "    if i % 3 == 0:\n",
    "        A.append(i ** 2)\n",
    "\n",
    "B = [ a ** 2 for a in range(10) if a % 3 == 0]\n",
    "\n",
    "C = [ a ** 2 for a in range(0, 10, 3)]\n",
    "\n",
    "A, B, C"
   ]
  },
  {
   "cell_type": "code",
   "execution_count": 59,
   "metadata": {
    "collapsed": false
   },
   "outputs": [
    {
     "data": {
      "text/plain": [
       "{'key0': 0, 'key1': 1, 'key2': 2, 'key3': 3}"
      ]
     },
     "execution_count": 59,
     "metadata": {},
     "output_type": "execute_result"
    }
   ],
   "source": [
    "D = { 'key{}'.format(i): i for i in range(4) }\n",
    "D"
   ]
  },
  {
   "cell_type": "markdown",
   "metadata": {},
   "source": [
    "### Lambda-abstrakcje\n",
    "\n",
    "W pythonie można tworzyć funkcje na dwa sposoby:\n",
    "- instrukcją `def`, nadając funkcjom konkretne nazwy\n",
    "- za pomocą tzw. lambda-abstrakcji tworząc funkcje anonimowe (tj. bez nazwy) - to jest przydatne do przesyłania prostych funkcji jako argument\n",
    "\n",
    "np.:\n",
    "\n",
    "`lambda x: x * 2` tworzy funkcję, która zwraca dwa razy większą liczbę.\n",
    "\n",
    "`lambda x, y: x + y` tworzy dwuargumentową funkcję, która zwraca sumę dwóch liczb.\n",
    "\n",
    "Są one mega przydatne z metodami typu: `map`, `filter` i `reduce`.\n",
    "\n",
    "* `map` jako pierwszy argument bierze funkcję, a jako drugi argument bierze listę/tuple i aplikuje tą funkcję do każdego elementu listy/tupla. Wynikiem działania jest nowa lista/tuple.\n",
    "`map(f, l) = [f(l[0]), f(l[1]), f(l[2]), ...]`\n",
    "* `filter` ma semantykę taką jak `map`, z tym, że pierszy argument powininen być funkcją zwracającą True/False. Filter zwraca te elementy listy, dla ktorych funkcja zwraca True.\n",
    "`filter(f, l) = [l[i] | f(l[i]) == True]`\n",
    "* `reduce` bierze trzy argumenty: funkcję dwuargumentową, listę i element początkowy.\n",
    "`reduce(f, l, a) = f(l[n], f(.. f(l[2], f(l[1], f(l[0], a))))...))`\n",
    "\n",
    "Myślę, że najlepiej widać to na przykładach."
   ]
  },
  {
   "cell_type": "code",
   "execution_count": 30,
   "metadata": {
    "collapsed": false
   },
   "outputs": [
    {
     "data": {
      "text/plain": [
       "[1.0,\n",
       " 0.5,\n",
       " 0.3333333333333333,\n",
       " 0.25,\n",
       " 0.2,\n",
       " 0.16666666666666666,\n",
       " 0.14285714285714285,\n",
       " 0.125,\n",
       " 0.1111111111111111]"
      ]
     },
     "execution_count": 30,
     "metadata": {},
     "output_type": "execute_result"
    }
   ],
   "source": [
    "A = range(1, 10)\n",
    "map(lambda x: 1. / x, A)"
   ]
  },
  {
   "cell_type": "code",
   "execution_count": 31,
   "metadata": {
    "collapsed": false
   },
   "outputs": [
    {
     "data": {
      "text/plain": [
       "[2, 4, 6, 8]"
      ]
     },
     "execution_count": 31,
     "metadata": {},
     "output_type": "execute_result"
    }
   ],
   "source": [
    "filter(lambda x: x % 2 == 0, A)"
   ]
  },
  {
   "cell_type": "code",
   "execution_count": 32,
   "metadata": {
    "collapsed": false
   },
   "outputs": [
    {
     "data": {
      "text/plain": [
       "45"
      ]
     },
     "execution_count": 32,
     "metadata": {},
     "output_type": "execute_result"
    }
   ],
   "source": [
    "reduce(lambda x, y: x + y, A, 0)"
   ]
  },
  {
   "cell_type": "markdown",
   "metadata": {},
   "source": [
    "### Klasy, obiekty"
   ]
  },
  {
   "cell_type": "code",
   "execution_count": 34,
   "metadata": {
    "collapsed": false
   },
   "outputs": [
    {
     "name": "stdout",
     "output_type": "stream",
     "text": [
      "9\n",
      "8\n",
      "-2\n"
     ]
    }
   ],
   "source": [
    "class Stos:\n",
    "    def __init__(self, input):\n",
    "        self.input = input\n",
    "        \n",
    "    def pop(self):\n",
    "        top = self.input[-1]\n",
    "        del self.input[-1]\n",
    "        return top\n",
    "        \n",
    "    def push(self, v):\n",
    "        self.input.append(v)\n",
    "        \n",
    "S = Stos(range(10))\n",
    "print S.pop()\n",
    "print S.pop()\n",
    "S.push(-1)\n",
    "S.push(-2)\n",
    "print S.pop()"
   ]
  },
  {
   "cell_type": "code",
   "execution_count": 105,
   "metadata": {
    "collapsed": true
   },
   "outputs": [],
   "source": [
    "import math\n",
    "import pandas as pd\n",
    "import numpy as np\n",
    "\n",
    "def sigmoid(z):\n",
    "    return 1. / (1 + math.e ** (-z))\n",
    "\n",
    "class LogisticRegression(object):\n",
    "    def __init__(self, lr=1.0, C=0.5):\n",
    "        self.lr = lr\n",
    "        self.C = C\n",
    "        self.W = None\n",
    "        \n",
    "    def log_loss(self, X, Y):\n",
    "        def h(x):\n",
    "            return sigmoid(x.dot(self.W))\n",
    "\n",
    "        n, m = X.shape\n",
    "\n",
    "        def one_step((x, y)):\n",
    "            return y * math.log(max(h(x), 0.00000000001)) + (1 - y) * math.log(max(1 - h(x), 0.0000000000001))\n",
    "\n",
    "        return - (1. / n) * sum(map(one_step, zip(X, Y)))\n",
    "\n",
    "    def grad(self, X, Y):\n",
    "        h = np.array(map(lambda x: sigmoid(x.dot(self.W)), X))\n",
    "        h = h.reshape(h.shape[0], )\n",
    "        s = h - Y\n",
    "        s = s.reshape(s.shape[0], 1)\n",
    "        g = s * X\n",
    "        return np.sum(g, axis=0)\n",
    "\n",
    "    def fit(self, X, Y=None):\n",
    "        self.W = np.array([1 for _ in range(X.shape[1] + 1)])\n",
    "        X = np.concatenate((X, np.ones((X.shape[0], 1))), axis=1) #Add bias\n",
    "\n",
    "        for i in xrange(100):\n",
    "            g = self.grad(X, Y)\n",
    "            self.W = self.W - ((self.lr) * g)\n",
    "            if i % 10 == 0:\n",
    "                print \"{}: {}\".format(i, self.log_loss(X, Y))\n",
    "\n",
    "        return self\n",
    "\n",
    "    def estimate(self, X):\n",
    "        X = np.concatenate((X, np.ones((X.shape[0], 1))), axis=1)\n",
    "        return sigmoid(X.dot(self.W))"
   ]
  },
  {
   "cell_type": "code",
   "execution_count": 84,
   "metadata": {
    "collapsed": false
   },
   "outputs": [
    {
     "data": {
      "text/plain": [
       "<matplotlib.collections.PathCollection at 0x6e1ff28b1c50>"
      ]
     },
     "execution_count": 84,
     "metadata": {},
     "output_type": "execute_result"
    },
    {
     "data": {
      "image/png": "[encoded data removed]",
      "text/plain": [
       "<matplotlib.figure.Figure at 0x6e1ff4402e10>"
      ]
     },
     "metadata": {},
     "output_type": "display_data"
    }
   ],
   "source": [
    "import matplotlib.pyplot as plt\n",
    "%matplotlib inline\n",
    "\n",
    "n = 500\n",
    "range_points = 1\n",
    "sigma = 0.05\n",
    "\n",
    "def lin_rule(x, noise=0.):\n",
    "    return 0.3 * x[0] - 0.2 * x[1] + 0.001 + noise < 0.\n",
    "\n",
    "\n",
    "X = np.array(range_points * 2 * (np.random.rand(n, 2) - 0.5))\n",
    "y = np.array([lin_rule(x, sigma * np.random.normal()) for x in X])\n",
    "\n",
    "plt.scatter(X[:, 0], X[: , 1], c=y)\n"
   ]
  },
  {
   "cell_type": "code",
   "execution_count": 106,
   "metadata": {
    "collapsed": false
   },
   "outputs": [
    {
     "name": "stdout",
     "output_type": "stream",
     "text": [
      "0: 0.542812867353\n",
      "10: 0.209150842098\n",
      "20: 0.177102864587\n",
      "30: 0.163339420819\n",
      "40: 0.155544076806\n",
      "50: 0.150510418237\n",
      "60: 0.146997904673\n",
      "70: 0.14441734309\n",
      "80: 0.142450503082\n",
      "90: 0.140909522885\n"
     ]
    },
    {
     "data": {
      "text/plain": [
       "<matplotlib.collections.PathCollection at 0x6e1ff26d6bd0>"
      ]
     },
     "execution_count": 106,
     "metadata": {},
     "output_type": "execute_result"
    },
    {
     "data": {
      "image/png": "[encoded data removed]",
      "text/plain": [
       "<matplotlib.figure.Figure at 0x6e1ff283a690>"
      ]
     },
     "metadata": {},
     "output_type": "display_data"
    }
   ],
   "source": [
    "LR = LogisticRegression(lr=0.01)\n",
    "LR.fit(X, y)\n",
    "y_2 = LR.estimate(X)\n",
    "labels = [1 if p > 0.5 else 0 for p in y_2]\n",
    "\n",
    "plt.scatter(X[:, 0], X[:, 1], c=labels)\n"
   ]
  },
  {
   "cell_type": "markdown",
   "metadata": {},
   "source": [
    "`__init__` to konstruktor obiektu - tj. taka metoda, która jest wywoływana przy inicjowaniu obiektu np. gdy piszemy:\n",
    "```\n",
    "S = Stos(range(10))\n",
    "```\n",
    "\n",
    "Zwróćcie uwagę, że każda metoda w klasie ma jako pierwszy argument `self` - jest to referencja do siebie samego."
   ]
  },
  {
   "cell_type": "markdown",
   "metadata": {},
   "source": [
    "### Jeszcze trochę o funkcjach\n",
    "\n",
    "Weźmy przykład takiego nagłówka funkcji: \n",
    "\n",
    "`def fit_transform(X, y=None, **fit_params)`\n",
    "\n",
    "Znaczy to, że:\n",
    "- X jest obowiązkowym argumentem\n",
    "- y jest obowiązkowym argumentem, z domyślną wartościa `None`, jeśli go nie podamy.\n",
    "- fit_params są dodatkowymi argumentami, które są nieobowiązkowe i które często są nieistotne - podaję ten przykład, żebyście się nie zdziwili, jak zobaczycie `**`(dwie kropki) czytając dokumentacje"
   ]
  },
  {
   "cell_type": "code",
   "execution_count": null,
   "metadata": {
    "collapsed": true
   },
   "outputs": [],
   "source": [
    "# TODO moze jeszcze pare przykladow o dokumumentacji"
   ]
  }
 ],
 "metadata": {
  "kernelspec": {
   "display_name": "Python [Root]",
   "language": "python",
   "name": "Python [Root]"
  },
  "language_info": {
   "codemirror_mode": {
    "name": "ipython",
    "version": 2
   },
   "file_extension": ".py",
   "mimetype": "text/x-python",
   "name": "python",
   "nbconvert_exporter": "python",
   "pygments_lexer": "ipython2",
   "version": "2.7.12"
  }
 },
 "nbformat": 4,
 "nbformat_minor": 0
}
