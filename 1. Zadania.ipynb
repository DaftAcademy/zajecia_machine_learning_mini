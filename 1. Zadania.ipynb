{
 "cells": [
  {
   "cell_type": "markdown",
   "metadata": {},
   "source": [
    "![logo](logo/DaftCode_logo_854x210.jpg)"
   ]
  },
  {
   "cell_type": "markdown",
   "metadata": {},
   "source": [
    "# Zajęcia 1"
   ]
  },
  {
   "cell_type": "markdown",
   "metadata": {},
   "source": [
    "## Zadania z eksploracji danych"
   ]
  },
  {
   "cell_type": "markdown",
   "metadata": {},
   "source": [
    "### Zadanie 1.1.\n",
    "\n",
    "Wczytajcie dane uczące (`xtrain_1.csv` i `y_train.csv`). Zdiagnozujcie kolumny nie niosące żadnej informacji (całkowicie puste, o zerowej wariancji itp.)"
   ]
  },
  {
   "cell_type": "code",
   "execution_count": null,
   "metadata": {
    "collapsed": true
   },
   "outputs": [],
   "source": []
  },
  {
   "cell_type": "markdown",
   "metadata": {},
   "source": [
    "### Zadanie 1.2. a)"
   ]
  },
  {
   "cell_type": "markdown",
   "metadata": {},
   "source": [
    "Które kolumny są numeryczne a które nominalne? Ile poziomów jest w poszczególnych zmiennych nominalnych? Porównaj wartości kilku zmiennych numerycznych na boxplocie i histogramie."
   ]
  },
  {
   "cell_type": "code",
   "execution_count": null,
   "metadata": {
    "collapsed": true
   },
   "outputs": [],
   "source": []
  },
  {
   "cell_type": "markdown",
   "metadata": {},
   "source": [
    "### Zadanie 1.2 b)\n",
    "Napisz funkcję, która biorąc za argument kolumnę ze zmienną nominalną, zwróci nową ramkę danych z jej reprezentacją binarną:\n",
    "\n",
    "```\n",
    "def transform_binary(col):\n",
    "    # return pandas.DataFrame\n",
    "```"
   ]
  },
  {
   "cell_type": "code",
   "execution_count": null,
   "metadata": {
    "collapsed": true
   },
   "outputs": [],
   "source": []
  },
  {
   "cell_type": "markdown",
   "metadata": {},
   "source": [
    "### Zadanie 1.3.\n",
    "\n",
    "W zbiorze danych znajdźcie kolumny zawierające format daty. Napiszcie funkcję, która zwraca nowe kolumny zawierające informacje pochodzące z tej cechy (w postaci ramki danych) i będące wartościami w zbiorze liczb $\\mathbf{R}$.\n",
    "\n",
    "```\n",
    "def transform_date(col):\n",
    "    # return pandas.DataFrame\n",
    "```"
   ]
  },
  {
   "cell_type": "code",
   "execution_count": null,
   "metadata": {
    "collapsed": false
   },
   "outputs": [],
   "source": []
  },
  {
   "cell_type": "markdown",
   "metadata": {},
   "source": [
    "### Zadanie 1.4.\n",
    "\n",
    "Czy dane zawierają kolumnę z informacją o języku przeglądarki? Jeśli tak, to napiszcie funkcję, która zwróci nową ramkę danych z numeryczną informacją o występowaniu danego języka.\n",
    "\n",
    "```\n",
    "def transform_lang(X):\n",
    "    # return pandas.DataFrame\n",
    "```"
   ]
  },
  {
   "cell_type": "code",
   "execution_count": null,
   "metadata": {
    "collapsed": true
   },
   "outputs": [],
   "source": []
  },
  {
   "cell_type": "markdown",
   "metadata": {},
   "source": [
    "### Zadanie 1.5."
   ]
  },
  {
   "cell_type": "markdown",
   "metadata": {},
   "source": [
    "Które kolumny niosą informację o kraju? Czy wszystkie wartości są zgodne?\n",
    "\n",
    "a) Napisz funkcję, która dla danej ramki danych zwróci kolumny, w której jest nazwa kraju.\n",
    "\n",
    "b) Napisz funkcję, która dla zadanych dwóch kolumn zwróci informację czy są zgodne."
   ]
  },
  {
   "cell_type": "code",
   "execution_count": null,
   "metadata": {
    "collapsed": true
   },
   "outputs": [],
   "source": []
  },
  {
   "cell_type": "markdown",
   "metadata": {},
   "source": [
    "### Zadanie 1.6."
   ]
  },
  {
   "cell_type": "markdown",
   "metadata": {},
   "source": [
    "Które kolumny niosą informację o przeglądarce lub wersji systemu operacyjnego? Czy wszystkie wartości są zgodne?"
   ]
  },
  {
   "cell_type": "code",
   "execution_count": null,
   "metadata": {
    "collapsed": true
   },
   "outputs": [],
   "source": []
  },
  {
   "cell_type": "markdown",
   "metadata": {},
   "source": [
    "### Zadanie 1.7\n",
    "Utwórz plik `[imie]_functions.py`, w którym zbierzesz funkcje z zadań `1.1 - 1.6` w jeden moduł. W komórce poniżej przetestuj ich działanie."
   ]
  },
  {
   "cell_type": "code",
   "execution_count": null,
   "metadata": {
    "collapsed": true
   },
   "outputs": [],
   "source": []
  },
  {
   "cell_type": "markdown",
   "metadata": {},
   "source": [
    "## Zadania dodatkowe"
   ]
  },
  {
   "cell_type": "markdown",
   "metadata": {},
   "source": [
    "### Zadanie 1.8\n",
    "Znajdź 10. par zmiennych numerycznych o największej korelacji."
   ]
  },
  {
   "cell_type": "code",
   "execution_count": null,
   "metadata": {
    "collapsed": true
   },
   "outputs": [],
   "source": []
  },
  {
   "cell_type": "markdown",
   "metadata": {},
   "source": [
    "### Zadanie 1.9\n",
    "Dowolną metodą znajdź 10. par najbardziej zależnych od siebie zmiennych nominalnych."
   ]
  },
  {
   "cell_type": "code",
   "execution_count": null,
   "metadata": {
    "collapsed": true
   },
   "outputs": [],
   "source": []
  }
 ],
 "metadata": {
  "kernelspec": {
   "display_name": "Python [Root]",
   "language": "python",
   "name": "Python [Root]"
  },
  "language_info": {
   "codemirror_mode": {
    "name": "ipython",
    "version": 2
   },
   "file_extension": ".py",
   "mimetype": "text/x-python",
   "name": "python",
   "nbconvert_exporter": "python",
   "pygments_lexer": "ipython2",
   "version": "2.7.12"
  }
 },
 "nbformat": 4,
 "nbformat_minor": 0
}
